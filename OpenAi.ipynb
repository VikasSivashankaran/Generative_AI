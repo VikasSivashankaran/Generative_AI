{
 "cells": [
  {
   "cell_type": "code",
   "execution_count": null,
   "metadata": {},
   "outputs": [],
   "source": [
    "import os\n",
    "os.environ['OPENAI_API_KEY'] = \"\""
   ]
  },
  {
   "cell_type": "code",
   "execution_count": 3,
   "metadata": {},
   "outputs": [
    {
     "name": "stdout",
     "output_type": "stream",
     "text": [
      "\n",
      "\n",
      "The capital of Kerala is Thiruvananthapuram.\n"
     ]
    }
   ],
   "source": [
    "from langchain.llms import OpenAI\n",
    "llm = OpenAI(temperature=0.9)\n",
    "name = llm.invoke(\"What is the capital of Kerala ?\")\n",
    "print(name)"
   ]
  },
  {
   "cell_type": "code",
   "execution_count": 4,
   "metadata": {},
   "outputs": [
    {
     "name": "stdout",
     "output_type": "stream",
     "text": [
      "\n",
      "\n",
      "\"Thai Spice House\"\n"
     ]
    }
   ],
   "source": [
    "from langchain.llms import OpenAI\n",
    "llm = OpenAI(temperature=0.9)\n",
    "name = llm.invoke(\"Suggest a name for my Thai restaurant\")\n",
    "print(name)"
   ]
  },
  {
   "cell_type": "code",
   "execution_count": 5,
   "metadata": {},
   "outputs": [
    {
     "name": "stdout",
     "output_type": "stream",
     "text": [
      "Suggest a name for my French restaurant\n"
     ]
    }
   ],
   "source": [
    "from langchain.prompts import PromptTemplate\n",
    "\n",
    "prompt_template_name = PromptTemplate(\n",
    "    input_variables = ['cuisine'],\n",
    "    template = 'Suggest a name for my {cuisine} restaurant'\n",
    ")\n",
    "\n",
    "p = prompt_template_name.format(cuisine=\"French\")\n",
    "print(p)"
   ]
  },
  {
   "cell_type": "code",
   "execution_count": 6,
   "metadata": {},
   "outputs": [
    {
     "name": "stderr",
     "output_type": "stream",
     "text": [
      "C:\\Users\\GowthamMaheswar\\AppData\\Local\\Temp\\ipykernel_6940\\2851112789.py:3: LangChainDeprecationWarning: The class `LLMChain` was deprecated in LangChain 0.1.17 and will be removed in 1.0. Use :meth:`~RunnableSequence, e.g., `prompt | llm`` instead.\n",
      "  chain = LLMChain(llm=llm, prompt = prompt_template_name, verbose=True)\n",
      "C:\\Users\\GowthamMaheswar\\AppData\\Local\\Temp\\ipykernel_6940\\2851112789.py:4: LangChainDeprecationWarning: The method `Chain.run` was deprecated in langchain 0.1.0 and will be removed in 1.0. Use :meth:`~invoke` instead.\n",
      "  chain.run(\"India\")\n"
     ]
    },
    {
     "name": "stdout",
     "output_type": "stream",
     "text": [
      "\n",
      "\n",
      "\u001b[1m> Entering new LLMChain chain...\u001b[0m\n",
      "Prompt after formatting:\n",
      "\u001b[32;1m\u001b[1;3mSuggest a name for my India restaurant\u001b[0m\n",
      "\n",
      "\u001b[1m> Finished chain.\u001b[0m\n"
     ]
    },
    {
     "data": {
      "text/plain": [
       "'\\n\\n\"Spice Nation\"'"
      ]
     },
     "execution_count": 6,
     "metadata": {},
     "output_type": "execute_result"
    }
   ],
   "source": [
    "from langchain.chains import LLMChain\n",
    "\n",
    "chain = LLMChain(llm=llm, prompt = prompt_template_name, verbose=True)\n",
    "chain.run(\"India\")"
   ]
  },
  {
   "cell_type": "code",
   "execution_count": 7,
   "metadata": {},
   "outputs": [],
   "source": [
    "llm = OpenAI(temperature=0.6)\n",
    "\n",
    "from langchain.prompts import PromptTemplate\n",
    "\n",
    "prompt_template_name = PromptTemplate(\n",
    "    input_variables = 'cuisine',\n",
    "    template = 'Suggest a name for my {cuisine} restaurant'\n",
    ")\n",
    "\n",
    "name_chain = LLMChain(llm=llm, prompt = prompt_template_name, verbose=True)\n",
    "\n",
    "prompt_template_items = PromptTemplate(\n",
    "    input_variables = ['restaurant_name'],\n",
    "    template = 'Suggest some menu items for {restaurant_name}'\n",
    ")\n",
    "\n",
    "food_items_chain = LLMChain(llm=llm, prompt=prompt_template_items)"
   ]
  },
  {
   "cell_type": "code",
   "execution_count": 8,
   "metadata": {},
   "outputs": [
    {
     "name": "stdout",
     "output_type": "stream",
     "text": [
      "\n",
      "\n",
      "\u001b[1m> Entering new LLMChain chain...\u001b[0m\n",
      "Prompt after formatting:\n",
      "\u001b[32;1m\u001b[1;3mSuggest a name for my American restaurant\u001b[0m\n",
      "\n",
      "\u001b[1m> Finished chain.\u001b[0m\n",
      "\n",
      "\n",
      "1. All-American Burger: A juicy beef patty topped with cheddar cheese, crispy bacon, lettuce, tomato, and onion, served on a brioche bun.\n",
      "2. BBQ Pulled Pork Sandwich: Slow-roasted pulled pork smothered in tangy BBQ sauce and served on a toasted bun.\n",
      "3. Chicken and Waffles: Crispy fried chicken served with fluffy Belgian waffles and maple syrup.\n",
      "4. Philly Cheesesteak: Thinly sliced steak, sautéed onions, and melted provolone cheese on a toasted hoagie roll.\n",
      "5. New England Clam Chowder: A creamy soup made with tender clams, potatoes, and a touch of bacon.\n",
      "6. Grilled Cheese and Tomato Soup: Classic comfort food with a twist, served with a side of homemade tomato soup for dipping.\n",
      "7. Fish and Chips: Beer-battered cod served with crispy fries and tartar sauce.\n",
      "8. Southern Fried Chicken: Buttermilk-marinated chicken fried to perfection and served with mashed potatoes and gravy.\n",
      "9. Buffalo Chicken Wrap: Grilled chicken tossed in spicy buffalo sauce, wrapped in a flour tortilla with lettuce, tomato, and ranch dressing.\n",
      "10. Vegetarian Cobb Salad: Mixed greens topped with avocado\n"
     ]
    }
   ],
   "source": [
    "from langchain.chains import SimpleSequentialChain\n",
    "chain = SimpleSequentialChain(chains=[name_chain, food_items_chain])\n",
    "\n",
    "content = chain.run(\"American\")\n",
    "print(content)"
   ]
  },
  {
   "cell_type": "code",
   "execution_count": 9,
   "metadata": {},
   "outputs": [],
   "source": [
    "llm = OpenAI(temperature=0.7)\n",
    "\n",
    "\n",
    "prompt_template_name = PromptTemplate(\n",
    "    input_variables = \"cuisine\",\n",
    "    template = \"Suggest a name for my {cuisine} restaurant\"\n",
    ")\n",
    "\n",
    "name_chain = LLMChain(llm=llm, prompt = prompt_template_name, output_key=\"restaurant_name\")"
   ]
  },
  {
   "cell_type": "code",
   "execution_count": 11,
   "metadata": {},
   "outputs": [],
   "source": [
    "llm = OpenAI(temperature=0.7)\n",
    "\n",
    "prompt_template_items = PromptTemplate(\n",
    "    input_variables = [\"restaurant_name\"],\n",
    "    template = \"Suggest some menu items for {restaurant_name}.\"\n",
    ")\n",
    "\n",
    "food_items_chain = LLMChain(llm=llm, prompt=prompt_template_items, output_key=\"menu_items\")"
   ]
  },
  {
   "cell_type": "code",
   "execution_count": 12,
   "metadata": {},
   "outputs": [],
   "source": [
    "from langchain.chains import SequentialChain\n",
    "\n",
    "chain = SequentialChain(\n",
    "    chains=[name_chain, food_items_chain],\n",
    "    input_variables=['cuisine'],\n",
    "    output_variables=['restaurant_name', \"menu_items\"]\n",
    ")"
   ]
  },
  {
   "cell_type": "code",
   "execution_count": 13,
   "metadata": {},
   "outputs": [
    {
     "name": "stderr",
     "output_type": "stream",
     "text": [
      "C:\\Users\\GowthamMaheswar\\AppData\\Local\\Temp\\ipykernel_6940\\4240788133.py:1: LangChainDeprecationWarning: The method `Chain.__call__` was deprecated in langchain 0.1.0 and will be removed in 1.0. Use :meth:`~invoke` instead.\n",
      "  chain({\"cuisine\": \"Italian\"})\n"
     ]
    },
    {
     "data": {
      "text/plain": [
       "{'cuisine': 'Italian',\n",
       " 'restaurant_name': '\\n\\n\"La Bella Trattoria\" ',\n",
       " 'menu_items': '\\n\\n1. Bruschetta al Pomodoro: Toasted bread topped with fresh diced tomatoes, garlic, basil, and extra virgin olive oil.\\n2. Spaghetti Carbonara: Spaghetti tossed in a creamy egg and pancetta sauce.\\n3. Pollo alla Marsala: Chicken breast sautéed with Marsala wine, mushrooms, and herbs.\\n4. Gnocchi Gorgonzola: Potato dumplings in a rich gorgonzola cream sauce.\\n5. Risotto ai Frutti di Mare: Creamy seafood risotto with shrimp, scallops, and calamari.\\n6. Melanzane Parmigiana: Baked eggplant layered with tomato sauce, mozzarella, and parmesan cheese.\\n7. Filetto di Manzo: Grilled beef tenderloin served with a red wine reduction sauce.\\n8. Insalata Caprese: Fresh mozzarella, tomatoes, and basil drizzled with balsamic glaze.\\n9. Lasagna Bolognese: Traditional beef and tomato sauce lasagna with layers of pasta and cheese.\\n10. Tiramisu: Classic Italian dessert made with ladyfingers, espresso, and mascarpone cheese.'}"
      ]
     },
     "execution_count": 13,
     "metadata": {},
     "output_type": "execute_result"
    }
   ],
   "source": [
    "chain({\"cuisine\": \"Italian\"})\n"
   ]
  },
  {
   "cell_type": "code",
   "execution_count": null,
   "metadata": {},
   "outputs": [],
   "source": []
  }
 ],
 "metadata": {
  "kernelspec": {
   "display_name": ".venv",
   "language": "python",
   "name": "python3"
  },
  "language_info": {
   "codemirror_mode": {
    "name": "ipython",
    "version": 3
   },
   "file_extension": ".py",
   "mimetype": "text/x-python",
   "name": "python",
   "nbconvert_exporter": "python",
   "pygments_lexer": "ipython3",
   "version": "3.12.3"
  }
 },
 "nbformat": 4,
 "nbformat_minor": 2
}
